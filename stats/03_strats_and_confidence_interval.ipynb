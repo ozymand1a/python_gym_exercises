{
 "cells": [
  {
   "cell_type": "code",
   "execution_count": 49,
   "metadata": {},
   "outputs": [],
   "source": [
    "import numpy as np\n",
    "from scipy.stats.distributions import chi2\n",
    "import scipy.stats"
   ]
  },
  {
   "cell_type": "markdown",
   "metadata": {},
   "source": [
    "## 1. Найдите оценку среднего числа, а также оценку дисперсии числа свободных мест"
   ]
  },
  {
   "cell_type": "code",
   "execution_count": 1,
   "metadata": {},
   "outputs": [
    {
     "data": {
      "text/plain": [
       "(678.76, 136721.6624)"
      ]
     },
     "execution_count": 1,
     "metadata": {},
     "output_type": "execute_result"
    }
   ],
   "source": [
    "S_1 = [282, 226, 188, 327, 344, 304, 414, 224, 335, 270]\n",
    "S_2 = [417,  851,  742, 1217, 1160,  993,  864,  852, 1286,  988]\n",
    "\n",
    "def mean_strate(A):\n",
    "    return sum(A) / len(A)\n",
    "\n",
    "EX = 0.4 * mean_strate(S_1) + 0.6 * mean_strate(S_2)\n",
    "\n",
    "DS_1 = sum([(x - mean_strate(S_1)) ** 2 for x in S_1]) / len(S_1)\n",
    "DS_2 = sum([(x - mean_strate(S_2)) ** 2 for x in S_2]) / len(S_2)\n",
    "\n",
    "D = 0.4 * DS_1 + 0.6 * DS_2 + 0.4 * ((EX - mean_strate(S_1)) ** 2) + 0.6 * ((EX - mean_strate(S_2)) ** 2) \n",
    "\n",
    "EX, D"
   ]
  },
  {
   "cell_type": "markdown",
   "metadata": {},
   "source": [
    "## 2. Постройте 95%-доверительный интервал для дисперсии $\\sigma^2$\n",
    "\n",
    "Предполагается, что ошибки измерений подчиняются нормальному закону с мат.ожиданием a=0 и неизвестной дисперсией $\\sigma^2$."
   ]
  },
  {
   "cell_type": "code",
   "execution_count": 47,
   "metadata": {},
   "outputs": [
    {
     "name": "stdout",
     "output_type": "stream",
     "text": [
      "1.311, 4.671\n"
     ]
    }
   ],
   "source": [
    "numbers = np.array([-1.3, 1.23, 0.01, -2.54, 1.39, 0.74, 0.11, 1.45, 0.28,\n",
    "                    -1.12, 1.07, 3.14, -1.29, 1.1, 1.05, 2.82, -0.34, -1.31, 0.29, 2.09])\n",
    "a = 0\n",
    "n = len(numbers)\n",
    "alpha = 0.05\n",
    "\n",
    "s_var_unbaised = ((numbers - a) ** 2).sum() / n\n",
    "chi_square_left = chi2.ppf(1 - alpha / 2, n)\n",
    "chi_square_right = chi2.ppf(alpha / 2, n)\n",
    "border_left = n * s_var_unbaised / chi_square_left\n",
    "border_right = n * s_var_unbaised / chi_square_right\n",
    "\n",
    "print(\"{:.3f}\".format(border_left) + ', ' + \"{:.3f}\".format(border_right))"
   ]
  },
  {
   "cell_type": "code",
   "execution_count": 39,
   "metadata": {},
   "outputs": [
    {
     "data": {
      "text/plain": [
       "10.85081139418259"
      ]
     },
     "execution_count": 39,
     "metadata": {},
     "output_type": "execute_result"
    }
   ],
   "source": [
    "chi2.ppf(0.05, n)"
   ]
  },
  {
   "cell_type": "markdown",
   "metadata": {},
   "source": [
    "## 3. Постройте асимптотический доверительный интервал для биномиального распределения"
   ]
  },
  {
   "cell_type": "code",
   "execution_count": 62,
   "metadata": {},
   "outputs": [
    {
     "name": "stdout",
     "output_type": "stream",
     "text": [
      "0.007, 0.093\n"
     ]
    }
   ],
   "source": [
    "numbers = np.array([0, 0, 0, 0, 0, 0, 0, 0, 0, 0, 0, 0, 0, 0, 0, 0, 1,\n",
    "                    0, 1, 1, 0, 0, 0, 0, 0, 0, 0, 0, 0, 0, 0, 0, 0, 0,\n",
    "                    0, 0, 0, 0, 0, 0, 0, 0, 0, 0, 0, 0, 0, 0, 0, 0, 1,\n",
    "                    0, 0, 0, 1, 0, 0, 0, 0, 0, 0, 0, 0, 0, 0, 0, 0, 0,\n",
    "                    0, 0, 0, 0, 0, 0, 0, 0, 0, 0, 0, 0, 0, 0, 0, 0, 0,\n",
    "                    0, 0, 0, 0, 0, 0, 0, 0, 0, 0, 0, 0, 0, 0, 0])\n",
    "\n",
    "alpha = 0.05\n",
    "p = (numbers == 1).sum() / len(numbers)\n",
    "var = p * (1 - p)\n",
    "border_left = p - scipy.stats.norm.ppf(1 - alpha/2) * var ** 0.5 / len(numbers) ** 0.5\n",
    "border_right = p + scipy.stats.norm.ppf(1 - alpha/2) * var ** 0.5 / len(numbers) ** 0.5\n",
    "\n",
    "print(\"{:.3f}\".format(border_left) + ', ' + \"{:.3f}\".format(border_right))"
   ]
  },
  {
   "cell_type": "code",
   "execution_count": 64,
   "metadata": {},
   "outputs": [
    {
     "name": "stdout",
     "output_type": "stream",
     "text": [
      "0.390, 0.410\n"
     ]
    }
   ],
   "source": [
    "alpha = 0.05\n",
    "p = 0.4\n",
    "n = 10000\n",
    "var = p * (1 - p)\n",
    "border_left = p - scipy.stats.norm.ppf(1 - alpha/2) * var ** 0.5 / n ** 0.5\n",
    "border_right = p + scipy.stats.norm.ppf(1 - alpha/2) * var ** 0.5 / n ** 0.5\n",
    "\n",
    "print(\"{:.3f}\".format(border_left) + ', ' + \"{:.3f}\".format(border_right))"
   ]
  },
  {
   "cell_type": "code",
   "execution_count": null,
   "metadata": {},
   "outputs": [],
   "source": []
  },
  {
   "cell_type": "code",
   "execution_count": null,
   "metadata": {},
   "outputs": [],
   "source": []
  },
  {
   "cell_type": "code",
   "execution_count": null,
   "metadata": {},
   "outputs": [],
   "source": []
  },
  {
   "cell_type": "code",
   "execution_count": null,
   "metadata": {},
   "outputs": [],
   "source": []
  },
  {
   "cell_type": "code",
   "execution_count": 1,
   "metadata": {},
   "outputs": [],
   "source": []
  }
 ],
 "metadata": {
  "kernelspec": {
   "display_name": "Python 3 (ipykernel)",
   "language": "python",
   "name": "python3"
  },
  "language_info": {
   "codemirror_mode": {
    "name": "ipython",
    "version": 3
   },
   "file_extension": ".py",
   "mimetype": "text/x-python",
   "name": "python",
   "nbconvert_exporter": "python",
   "pygments_lexer": "ipython3",
   "version": "3.9.4"
  }
 },
 "nbformat": 4,
 "nbformat_minor": 1
}
