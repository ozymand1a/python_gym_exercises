{
 "cells": [
  {
   "cell_type": "code",
   "execution_count": null,
   "id": "3d7f2b76",
   "metadata": {},
   "outputs": [],
   "source": [
    "cd ../.."
   ]
  },
  {
   "cell_type": "code",
   "execution_count": 1,
   "id": "b945cd34",
   "metadata": {},
   "outputs": [],
   "source": [
    "from scipy.stats import t\n",
    "import math"
   ]
  },
  {
   "cell_type": "markdown",
   "id": "a1ba4f41",
   "metadata": {},
   "source": [
    "### 01. Какими будут критическая область для статистики критерия Z (используем центрированную нормированную статистикиу), p-value и статистическое решение, если уровень значимости равен 0.1?\n",
    "\n",
    "Проводится анализ продолжительности работы на одном и том же месте. С этой целью были опрошены 100 респондентов. Средний стаж работы на одном рабочем месте составил 3.3 года, а несмещенная оценка дисперсии составила  1 год. Можно ли считать, что средний стаж работы на одном месте менее трех с половиной лет. Будем считать, что продолжительность работы на одном месте подчиняется нормальному закону распределения\n"
   ]
  },
  {
   "cell_type": "code",
   "execution_count": 24,
   "id": "48956ee2",
   "metadata": {},
   "outputs": [
    {
     "name": "stdout",
     "output_type": "stream",
     "text": [
      "Выборочное значение статистики: -2.00\n",
      "Критическая область для статистики критерия Z: (-inf, -1.29)\n",
      "p-value = 0.024\n",
      "Отклоняем H_0\n"
     ]
    }
   ],
   "source": [
    "alpha = 0.1 \n",
    "n = 100\n",
    "s2 = 1              # несмещенная оценка дисперсии\n",
    "x_mean = 3.3        # средний стаж\n",
    "a_0 = 3.5\n",
    "\n",
    "z_sample = (x_mean - a_0) / math.sqrt(s2 / n)        #выборочная статистика\n",
    "print('Выборочное значение статистики: {:0.2f}'.format(z_sample))\n",
    "t_alpha = t.ppf(alpha, n - 1) # percent point function\n",
    "p_value = t.cdf(z_sample, n - 1) # cumulative distribution function\n",
    "\n",
    "print('Критическая область для статистики критерия Z: ({}, {:0.2f})'.format(-math.inf, t_alpha))\n",
    "print('p-value = {:0.3f}'.format(p_value))\n",
    "\n",
    "if p_value > alpha:\n",
    "    print('Принимаем H_0')\n",
    "else:\n",
    "    print('Отклоняем H_0')"
   ]
  },
  {
   "cell_type": "markdown",
   "id": "ebb13a8a",
   "metadata": {},
   "source": [
    "### 02. Найдите выборочное значение статистики Z и примите статистическое решение\n",
    "\n",
    "Вы хотите найти такой вид инвестирования, который бы давал твердый доход, по крайней мере 13.2%. Для этого вам необходимо проверить, является ли выборочное среднее доказательством того, что реальный доход больше проверяемого значения доходности. Вы подумываете инвестировать в облигации A. По данным 40 наблюдений среднемесячная доходность, приведенная к годовому базису, по выбранным облигациям составила 14.4%, а выборочное среднеквадратическое отклонение - 2.915%. Предположим, что доходность подчиняется нормальному закону. Уровень значимости 0.01."
   ]
  },
  {
   "cell_type": "code",
   "execution_count": 25,
   "id": "fcfcc0d6",
   "metadata": {},
   "outputs": [
    {
     "name": "stdout",
     "output_type": "stream",
     "text": [
      "Выборочное значение статистики: 2.57\n",
      "Критическая область для статистики критерия Z: (-inf, -2.43)\n",
      "p-value = 0.007\n",
      "Отклоняем H_0\n"
     ]
    }
   ],
   "source": [
    "alpha = 0.01\n",
    "n = 40\n",
    "x_mean = 14.4\n",
    "a_0 = 13.2\n",
    "sigma = 2.915\n",
    "s2 = n * sigma * sigma / (n - 1)\n",
    "\n",
    "z_sample = (x_mean - a_0) / math.sqrt(s2 / n)\n",
    "print('Выборочное значение статистики: {:0.2f}'.format(z_sample))\n",
    "t_alpha = t.ppf(alpha, n - 1)\n",
    "p_value = 1 - t.cdf(z_sample, n - 1)\n",
    "\n",
    "print('Критическая область для статистики критерия Z: ({}, {:0.2f})'.format(-math.inf, t_alpha))\n",
    "print('p-value = {:0.3f}'.format(p_value))\n",
    "\n",
    "if p_value > alpha:\n",
    "    print('Принимаем H_0')\n",
    "else:\n",
    "    print('Отклоняем H_0')"
   ]
  },
  {
   "cell_type": "code",
   "execution_count": null,
   "id": "fb233e05",
   "metadata": {},
   "outputs": [],
   "source": []
  },
  {
   "cell_type": "code",
   "execution_count": null,
   "id": "39c8ed3c",
   "metadata": {},
   "outputs": [],
   "source": []
  }
 ],
 "metadata": {
  "kernelspec": {
   "display_name": "Python 3 (ipykernel)",
   "language": "python",
   "name": "python3"
  },
  "language_info": {
   "codemirror_mode": {
    "name": "ipython",
    "version": 3
   },
   "file_extension": ".py",
   "mimetype": "text/x-python",
   "name": "python",
   "nbconvert_exporter": "python",
   "pygments_lexer": "ipython3",
   "version": "3.9.4"
  }
 },
 "nbformat": 4,
 "nbformat_minor": 5
}